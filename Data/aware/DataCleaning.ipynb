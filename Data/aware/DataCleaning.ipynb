{
 "cells": [
  {
   "cell_type": "markdown",
   "id": "4ca5119c",
   "metadata": {},
   "source": [
    "Aware Super data cleaning template  "
   ]
  },
  {
   "cell_type": "code",
   "execution_count": 1,
   "id": "50fea8fb",
   "metadata": {},
   "outputs": [
    {
     "name": "stdout",
     "output_type": "stream",
     "text": [
      "<class 'pandas.core.frame.DataFrame'>\n",
      "RangeIndex: 2617 entries, 0 to 2616\n",
      "Data columns (total 13 columns):\n",
      " #   Column                                                                                                               Non-Null Count  Dtype \n",
      "---  ------                                                                                                               --------------  ----- \n",
      " 0   PHD SCHEDULE 8D TABLE 1 - PORTFOLIO HOLDINGS INFORMATION FOR INVESTMENT OPTION [AWAREACCGROW] - ASSETS - 2024-12-31  2616 non-null   object\n",
      " 1   Unnamed: 1                                                                                                           2598 non-null   object\n",
      " 2   Unnamed: 2                                                                                                           2598 non-null   object\n",
      " 3   Unnamed: 3                                                                                                           2598 non-null   object\n",
      " 4   Unnamed: 4                                                                                                           2598 non-null   object\n",
      " 5   Unnamed: 5                                                                                                           2598 non-null   object\n",
      " 6   Unnamed: 6                                                                                                           2598 non-null   object\n",
      " 7   Unnamed: 7                                                                                                           2598 non-null   object\n",
      " 8   Unnamed: 8                                                                                                           2598 non-null   object\n",
      " 9   Unnamed: 9                                                                                                           29 non-null     object\n",
      " 10  Unnamed: 10                                                                                                          2294 non-null   object\n",
      " 11  Unnamed: 11                                                                                                          2549 non-null   object\n",
      " 12  Unnamed: 12                                                                                                          2549 non-null   object\n",
      "dtypes: object(13)\n",
      "memory usage: 265.9+ KB\n",
      "None\n",
      "  PHD SCHEDULE 8D TABLE 1 - PORTFOLIO HOLDINGS INFORMATION FOR INVESTMENT OPTION [AWAREACCGROW] - ASSETS - 2024-12-31  \\\n",
      "0                                        ASSET CLASS                                                                    \n",
      "1                                               CASH                                                                    \n",
      "2                                               CASH                                                                    \n",
      "3                                               CASH                                                                    \n",
      "4                                               CASH                                                                    \n",
      "\n",
      "                                 Unnamed: 1                       Unnamed: 2  \\\n",
      "0  INTERNALLY MANAGED OR EXTERNALLY MANAGED              NAME OF INSTITUTION   \n",
      "1                                         -   COMMONWEALTH BANK OF AUSTRALIA   \n",
      "2                                         -  NATIONAL AUSTRALIA BANK LIMITED   \n",
      "3                                         -      STATE STREET BANK AND TRUST   \n",
      "4                                         -                   MORGAN STANLEY   \n",
      "\n",
      "                      Unnamed: 3            Unnamed: 4  \\\n",
      "0  NAME OF ISSUER / COUNTERPARTY  NAME OF FUND MANAGER   \n",
      "1                              -                     -   \n",
      "2                              -                     -   \n",
      "3                              -                     -   \n",
      "4                              -                     -   \n",
      "\n",
      "                       Unnamed: 5 Unnamed: 6           Unnamed: 7 Unnamed: 8  \\\n",
      "0  NAME / KIND OF INVESTMENT ITEM   CURRENCY  SECURITY IDENTIFIER    ADDRESS   \n",
      "1                               -        AUD                    -          -   \n",
      "2                               -        AUD                    -          -   \n",
      "3                               -        USD                    -          -   \n",
      "4                               -        AUD                    -          -   \n",
      "\n",
      "                    Unnamed: 9 Unnamed: 10   Unnamed: 11   Unnamed: 12  \n",
      "0  % OWNERSHIP / PROPERTY HELD  UNITS HELD    VALUE(AUD)  WEIGHTING(%)  \n",
      "1                          NaN         NaN  $273,243,198         1.12%  \n",
      "2                          NaN         NaN  $154,727,273         0.63%  \n",
      "3                          NaN         NaN   $30,031,189         0.12%  \n",
      "4                          NaN         NaN   $24,810,420         0.10%  \n"
     ]
    }
   ],
   "source": [
    "import pandas as pd\n",
    "\n",
    "df = pd.read_excel('aware.xlsx', sheet_name = 'Table1')\n",
    "\n",
    "# Sneak peak of the data\n",
    "print(df.info())\n",
    "print(df.head())"
   ]
  }
 ],
 "metadata": {
  "kernelspec": {
   "display_name": "base",
   "language": "python",
   "name": "python3"
  },
  "language_info": {
   "codemirror_mode": {
    "name": "ipython",
    "version": 3
   },
   "file_extension": ".py",
   "mimetype": "text/x-python",
   "name": "python",
   "nbconvert_exporter": "python",
   "pygments_lexer": "ipython3",
   "version": "3.9.18"
  }
 },
 "nbformat": 4,
 "nbformat_minor": 5
}
