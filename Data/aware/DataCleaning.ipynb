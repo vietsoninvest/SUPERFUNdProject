{
 "cells": [
  {
   "cell_type": "markdown",
   "id": "4ca5119c",
   "metadata": {},
   "source": [
    "Aware Super data cleaning template  \n",
    "\n",
    "**Note**\n",
    "\n",
    "- Total Weighting (%): 2.8948964855295465\n",
    "- Total Weighting of all Sub Total (%): 0.9564964855295466\n",
    "- Total Weighting without Sub Total (%): 0.9218999999999999\n",
    "- Some `Internally Managed` `Unlisted` products were recorded with no value and weighting, but somehow still has a positive `SUBTOTAL`. Currently being kept as is\n"
   ]
  },
  {
   "cell_type": "markdown",
   "id": "c62432b0",
   "metadata": {},
   "source": [
    "Step 1: Find the cut-off point and renmove unuseful information at the end of the table"
   ]
  },
  {
   "cell_type": "code",
   "execution_count": 10,
   "id": "50fea8fb",
   "metadata": {},
   "outputs": [
    {
     "name": "stdout",
     "output_type": "stream",
     "text": [
      "Effective Date: 2024-12-31\n"
     ]
    }
   ],
   "source": [
    "import pandas as pd\n",
    "\n",
    "df_raw = pd.read_excel('aware.xlsx', sheet_name = 'Table1',header = None)\n",
    "\n",
    "# Extract effective date from the first cell\n",
    "first_cell = df_raw.iloc[0, 0]\n",
    "import re\n",
    "match = re.search(r'\\d{4}-\\d{2}-\\d{2}', str(first_cell))\n",
    "effective_date = match.group(0) if match else None\n",
    "\n",
    "print(f\"Effective Date: {effective_date}\")"
   ]
  },
  {
   "cell_type": "code",
   "execution_count": 11,
   "id": "89630dde",
   "metadata": {},
   "outputs": [
    {
     "name": "stdout",
     "output_type": "stream",
     "text": [
      "Cut main table before row: 2615\n"
     ]
    }
   ],
   "source": [
    "# Skip the first row which contains the effective date\n",
    "df = pd.read_excel('aware.xlsx', sheet_name = 'Table1',skiprows=1)  \n",
    "\n",
    "# find the cut-off point \n",
    "first_col = df.columns[0] \n",
    "cutoff_index = df[\n",
    "    df[first_col].astype(str).str.contains(\n",
    "        r\"The value \\(AUD\\) and weighting \\(%\\) sub totals may not sum\", na=False\n",
    "    )\n",
    "].index.min()\n",
    "print(\"Cut main table before row:\", cutoff_index)\n"
   ]
  },
  {
   "cell_type": "code",
   "execution_count": 12,
   "id": "a8459ad8",
   "metadata": {},
   "outputs": [],
   "source": [
    "# separate the main table and summary table\n",
    "df_main = df.loc[:cutoff_index - 2]   # all rows before cutoff\n",
    "df_summary = df.loc[cutoff_index:]    # cutoff row and everything after"
   ]
  },
  {
   "cell_type": "code",
   "execution_count": 13,
   "id": "6df2ee96",
   "metadata": {},
   "outputs": [
    {
     "name": "stderr",
     "output_type": "stream",
     "text": [
      "C:\\Users\\Admin\\AppData\\Local\\Temp\\ipykernel_23524\\4262546433.py:3: SettingWithCopyWarning: \n",
      "A value is trying to be set on a copy of a slice from a DataFrame.\n",
      "Try using .loc[row_indexer,col_indexer] = value instead\n",
      "\n",
      "See the caveats in the documentation: https://pandas.pydata.org/pandas-docs/stable/user_guide/indexing.html#returning-a-view-versus-a-copy\n",
      "  df_main['Effective Date'] = effective_date\n",
      "C:\\Users\\Admin\\AppData\\Local\\Temp\\ipykernel_23524\\4262546433.py:4: SettingWithCopyWarning: \n",
      "A value is trying to be set on a copy of a slice from a DataFrame.\n",
      "Try using .loc[row_indexer,col_indexer] = value instead\n",
      "\n",
      "See the caveats in the documentation: https://pandas.pydata.org/pandas-docs/stable/user_guide/indexing.html#returning-a-view-versus-a-copy\n",
      "  df_main['Option Name'] = 'Balanced Growth'\n",
      "C:\\Users\\Admin\\AppData\\Local\\Temp\\ipykernel_23524\\4262546433.py:5: SettingWithCopyWarning: \n",
      "A value is trying to be set on a copy of a slice from a DataFrame.\n",
      "Try using .loc[row_indexer,col_indexer] = value instead\n",
      "\n",
      "See the caveats in the documentation: https://pandas.pydata.org/pandas-docs/stable/user_guide/indexing.html#returning-a-view-versus-a-copy\n",
      "  df_main['Fund Name'] = 'aware'\n"
     ]
    }
   ],
   "source": [
    "# Add Effective Date and Fund Name columns\n",
    "\n",
    "df_main['Effective Date'] = effective_date\n",
    "df_main['Option Name'] = 'Balanced Growth'\n",
    "df_main['Fund Name'] = 'aware'"
   ]
  },
  {
   "cell_type": "markdown",
   "id": "7b4dccf5",
   "metadata": {},
   "source": [
    "Step 2: Handle Subtotal/ Merge and rename columns"
   ]
  },
  {
   "cell_type": "code",
   "execution_count": 14,
   "id": "e6b5a5a0",
   "metadata": {},
   "outputs": [],
   "source": [
    "# Handle 'Sub Total' rows\n",
    "import numpy as np\n",
    "\n",
    "def sub_total_rule(df):\n",
    "    \"\"\"\n",
    "    RULES:\n",
    "    1. \"TOTAL INVESMENT ITEMS\" → NAME OF INSTITUTION\n",
    "    2. \"SUB TOTAL...\" strings → split across multiple columns\n",
    "    3. Other values remain unchanged\n",
    "    \"\"\"\n",
    "    df_transformed = df.copy()\n",
    "    \n",
    "    for idx, value in enumerate(df_transformed['ASSET CLASS']):\n",
    "        if pd.isna(value):\n",
    "            continue\n",
    "            \n",
    "        value_str = str(value).strip()\n",
    "        \n",
    "        # Rule 1: Move \"TOTAL INVESTMENT ITEMS\"\n",
    "        if value_str == \"TOTAL INVESTMENT ITEMS\":\n",
    "            df_transformed.loc[idx, 'NAME OF INSTITUTION'] = value_str\n",
    "            df_transformed.loc[idx, 'ASSET CLASS'] = np.nan\n",
    "            \n",
    "        # Rule 2: Handle \"SUB TOTAL\" entries  \n",
    "        elif value_str.startswith(\"SUB TOTAL\"):\n",
    "            parts = value_str.split()\n",
    "            management_type = None\n",
    "            remaining_parts = []\n",
    "            \n",
    "            for i, part in enumerate(parts):\n",
    "                if part in [\"INTERNALLY\", \"EXTERNALLY\"]:\n",
    "                    management_type = part\n",
    "                elif not (part == \"SUB\" or (part == \"TOTAL\" and i > 0 and parts[i-1] == \"SUB\")):\n",
    "                    remaining_parts.append(part)\n",
    "            \n",
    "            df_transformed.loc[idx, 'NAME OF INSTITUTION'] = \"SUB TOTAL\"\n",
    "            if management_type:\n",
    "                df_transformed.loc[idx, 'INTERNALLY MANAGED OR EXTERNALLY MANAGED'] = management_type\n",
    "            if remaining_parts:\n",
    "                df_transformed.loc[idx, 'ASSET CLASS'] = \" \".join(remaining_parts)\n",
    "            else:\n",
    "                df_transformed.loc[idx, 'ASSET CLASS'] = np.nan\n",
    "    \n",
    "    return df_transformed\n",
    "df_main = sub_total_rule(df_main)"
   ]
  },
  {
   "cell_type": "code",
   "execution_count": 15,
   "id": "6eadef4a",
   "metadata": {},
   "outputs": [],
   "source": [
    "# Rename some columns\n",
    "df_main.rename(columns={\n",
    "    'ASSET CLASS': 'Asset Class Name',\n",
    "    'INTERNALLY MANAGED OR EXTERNALLY MANAGED': 'Int/Ext',\n",
    "    'UNITS HELD': 'Units Held',\n",
    "    'ADDRESS': 'Address',\n",
    "    'VALUE(AUD)': 'Value (AUD)',\n",
    "    'WEIGHTING(%)': 'Weighting (%)',\n",
    "    'CURRENCY': 'Currency',\n",
    "    '% OWNERSHIP / PROPERTY HELD': '% Ownership'\n",
    "}, inplace=True)\n",
    "\n",
    "# Convert 'Int/Ext' to binary\n",
    "def convert_int_ext(value):\n",
    "    if isinstance(value, str):\n",
    "        val = value.strip().upper()\n",
    "        if val == 'INTERNALLY':\n",
    "            return 0\n",
    "    return 1  # return 1 for 'EXTERNALLY' or any other value\n",
    "\n",
    "df_main['Int/Ext'] = df_main['Int/Ext'].apply(convert_int_ext)\n",
    "\n",
    "# Combine 4 overlapping columns into one\n",
    "df_main['Name/Kind of Investment Item'] = df_main[\n",
    "    ['NAME OF INSTITUTION', \n",
    "     'NAME OF ISSUER / COUNTERPARTY', \n",
    "     'NAME OF FUND MANAGER', \n",
    "     'NAME / KIND OF INVESTMENT ITEM']\n",
    "].replace('-', np.nan).bfill(axis=1).iloc[:, 0]\n",
    "\n",
    "# Split 'SECURITY IDENTIFIER' into 2 columns by space delimeter\n",
    "df_main[['Stock ID', 'Listed Country']] = df_main['SECURITY IDENTIFIER'].str.extract(r'^([^ ]+)\\s+(.*)$')\n",
    "\n",
    "\n",
    "# Final selection and reordering of columns\n",
    "df_main = df_main[[\n",
    "    'Effective Date',\n",
    "    'Fund Name',\n",
    "    'Option Name',\n",
    "    'Asset Class Name',\n",
    "    'Int/Ext',\n",
    "    'Name/Kind of Investment Item',\n",
    "    'Currency',\n",
    "    'Stock ID',\n",
    "    'Listed Country',\n",
    "    '% Ownership',\n",
    "    'Units Held',\n",
    "    'Address',\n",
    "    'Value (AUD)',\n",
    "    'Weighting (%)'\n",
    "]]"
   ]
  },
  {
   "cell_type": "markdown",
   "id": "cf9dc3f0",
   "metadata": {},
   "source": [
    "Step 3: Standardise columns dtype"
   ]
  },
  {
   "cell_type": "code",
   "execution_count": 16,
   "id": "4e6c9cc5",
   "metadata": {},
   "outputs": [],
   "source": [
    "## Change dtype of 'Value(AUD)', Units Held, %Ownership, and 'WEIGHTING(%)' to float\n",
    "\n",
    "# Value(AUD) — remove '$' and ',' and convert to float\n",
    "df_main['Value (AUD)'] = (\n",
    "    df_main['Value (AUD)']\n",
    "    .astype(str)\n",
    "    .str.replace(r'[\\$,]', '', regex=True)\n",
    "    .str.replace('nan', '')  # Handle NaN converted to string\n",
    "    .replace(['', 'nan'], pd.NA)\n",
    "    .pipe(pd.to_numeric, errors='coerce')\n",
    ")\n",
    "\n",
    "# Units Held — convert to float\n",
    "df_main['Units Held'] = (\n",
    "    df_main['Units Held']\n",
    "    .astype(str)\n",
    "    .str.replace(r'[,]', '', regex=True)\n",
    "    .str.replace('nan', '')\n",
    "    .replace(['', 'nan'], pd.NA)\n",
    "    .pipe(pd.to_numeric, errors='coerce')\n",
    ")\n",
    "\n",
    "# Weighting(%) — remove '%' and convert to float, then divide by 100\n",
    "df_main['Weighting (%)'] = (\n",
    "    df_main['Weighting (%)']\n",
    "    .astype(str)\n",
    "    .str.replace('%', '', regex=False)\n",
    "    .str.replace('nan', '')\n",
    "    .replace(['', 'nan'], pd.NA)\n",
    "    .pipe(pd.to_numeric, errors='coerce') / 100\n",
    ")\n",
    "\n",
    "# % Ownership — convert to float and divide by 100\n",
    "df_main['% Ownership'] = (\n",
    "    df_main['% Ownership']\n",
    "    .astype(str)\n",
    "    .str.replace('%', '', regex=False)  # Add this if % signs present\n",
    "    .str.replace('nan', '')\n",
    "    .replace(['', 'nan'], pd.NA)\n",
    "    .pipe(pd.to_numeric, errors='coerce') / 100\n",
    ")"
   ]
  },
  {
   "cell_type": "code",
   "execution_count": 17,
   "id": "c9965330",
   "metadata": {},
   "outputs": [],
   "source": [
    "#extract csv\n",
    "\n",
    "df_main.to_csv('aware_cleaned.csv', index=False,encoding='utf-8-sig')"
   ]
  },
  {
   "cell_type": "code",
   "execution_count": 18,
   "id": "7c0d86d7",
   "metadata": {},
   "outputs": [
    {
     "name": "stdout",
     "output_type": "stream",
     "text": [
      "Total Weighting (%): 2.8948964855295465\n",
      "Total Weighting of all Sub Total (%): 0.9564964855295466\n",
      "Total Weighting without Sub Total (%): 0.9218999999999999\n"
     ]
    }
   ],
   "source": [
    "## Weighting (%) calculation\n",
    "# Total weighting with everything in the main table\n",
    "total = df_main['Weighting (%)'].sum()\n",
    "# Total weighting of only Sub total rows (This equal weighting of 'TOTAL INVESTMENT ITEMS')\n",
    "total_sub_total = df_main[df_main['Name/Kind of Investment Item'] == 'SUB TOTAL']['Weighting (%)'].sum()\n",
    "# Total weighting without 'Sub Total' and 'TOTAL INVESTMENT ITEMS'\n",
    "total_without_sub_total = total - total_sub_total - df_main[df_main['Name/Kind of Investment Item'] == 'TOTAL INVESTMENT ITEMS']['Weighting (%)'].sum()\n",
    "print(f\"Total Weighting (%): {total}\")\n",
    "print(f\"Total Weighting of all Sub Total (%): {total_sub_total}\")\n",
    "print(f\"Total Weighting without Sub Total (%): {total_without_sub_total}\")"
   ]
  }
 ],
 "metadata": {
  "kernelspec": {
   "display_name": "base",
   "language": "python",
   "name": "python3"
  },
  "language_info": {
   "codemirror_mode": {
    "name": "ipython",
    "version": 3
   },
   "file_extension": ".py",
   "mimetype": "text/x-python",
   "name": "python",
   "nbconvert_exporter": "python",
   "pygments_lexer": "ipython3",
   "version": "3.9.18"
  }
 },
 "nbformat": 4,
 "nbformat_minor": 5
}
