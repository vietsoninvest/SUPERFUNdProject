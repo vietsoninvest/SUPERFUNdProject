{
 "cells": [
  {
   "cell_type": "markdown",
   "id": "4ca5119c",
   "metadata": {},
   "source": [
    "CBUS data cleaning template\n",
    "\n",
    "**Note**\n",
    "\n",
    "- `Security ID` list does not have country code. However, a script is still applied for future use.\n",
    "- `Security Name` (Company name) is avaialble, might be used in the future to extract listed country.\n",
    "- `Effective Date` is not available, therefore will be manually added. **To be added at Step 2**\n",
    "- `Int/Ext` is not available in the raw data, the whole portfolio is managed *Externally*"
   ]
  },
  {
   "cell_type": "code",
   "execution_count": 67,
   "id": "d427d615",
   "metadata": {},
   "outputs": [
    {
     "name": "stdout",
     "output_type": "stream",
     "text": [
      "{'encoding': 'ascii', 'confidence': 1.0, 'language': ''}\n"
     ]
    }
   ],
   "source": [
    "## pip install chardet - to detect file encoding\n",
    "# Detecting the encoding of a CSV file using chardet\n",
    "import chardet\n",
    "\n",
    "with open('cbus.csv', 'rb') as f:\n",
    "    result = chardet.detect(f.read(100000))\n",
    "    print(result)  # Output: {'encoding': 'Windows-1252', 'confidence': 0.99, 'language': ''}\n"
   ]
  },
  {
   "cell_type": "markdown",
   "id": "a243e408",
   "metadata": {},
   "source": [
    "Step 1: Find the cut-off point and remove unnecessary information at the end of the table"
   ]
  },
  {
   "cell_type": "code",
   "execution_count": 68,
   "id": "556a141f",
   "metadata": {},
   "outputs": [
    {
     "name": "stdout",
     "output_type": "stream",
     "text": [
      "Cut main table before row: 2176\n"
     ]
    }
   ],
   "source": [
    "# Skip the first row which contains unuseful information\n",
    "import pandas as pd\n",
    "df = pd.read_csv('cbus.csv', encoding='cp1252',skiprows=1)  \n",
    "\n",
    "# Find the cut-off point \n",
    "first_col = df.columns[0] \n",
    "cutoff_index = df[\n",
    "    df[first_col].astype(str).str.contains(\n",
    "        r\"Portfolio Holdings Information for Investment Option\", na=False\n",
    "    )\n",
    "].index.min()\n",
    "print(\"Cut main table before row:\", cutoff_index)\n"
   ]
  },
  {
   "cell_type": "code",
   "execution_count": 69,
   "id": "c8c55249",
   "metadata": {},
   "outputs": [],
   "source": [
    "# separate the main table and summary table\n",
    "df_main = df.loc[:cutoff_index - 1]   # all rows before cutoff\n",
    "df_summary = df.loc[cutoff_index:]    # cutoff row and everything after\n"
   ]
  },
  {
   "cell_type": "markdown",
   "id": "96b0865d",
   "metadata": {},
   "source": [
    "Step 2: Add 'Effective Date' and 'Fund Name' columns. Insert Effective Date Manually"
   ]
  },
  {
   "cell_type": "code",
   "execution_count": 70,
   "id": "7135eb6a",
   "metadata": {},
   "outputs": [
    {
     "name": "stderr",
     "output_type": "stream",
     "text": [
      "C:\\Users\\Admin\\AppData\\Local\\Temp\\ipykernel_23316\\3648709357.py:3: SettingWithCopyWarning: \n",
      "A value is trying to be set on a copy of a slice from a DataFrame.\n",
      "Try using .loc[row_indexer,col_indexer] = value instead\n",
      "\n",
      "See the caveats in the documentation: https://pandas.pydata.org/pandas-docs/stable/user_guide/indexing.html#returning-a-view-versus-a-copy\n",
      "  df_main['Effective Date'] = this_period\n",
      "C:\\Users\\Admin\\AppData\\Local\\Temp\\ipykernel_23316\\3648709357.py:4: SettingWithCopyWarning: \n",
      "A value is trying to be set on a copy of a slice from a DataFrame.\n",
      "Try using .loc[row_indexer,col_indexer] = value instead\n",
      "\n",
      "See the caveats in the documentation: https://pandas.pydata.org/pandas-docs/stable/user_guide/indexing.html#returning-a-view-versus-a-copy\n",
      "  df_main['Fund Name'] = 'cbus'\n",
      "C:\\Users\\Admin\\AppData\\Local\\Temp\\ipykernel_23316\\3648709357.py:5: SettingWithCopyWarning: \n",
      "A value is trying to be set on a copy of a slice from a DataFrame.\n",
      "Try using .loc[row_indexer,col_indexer] = value instead\n",
      "\n",
      "See the caveats in the documentation: https://pandas.pydata.org/pandas-docs/stable/user_guide/indexing.html#returning-a-view-versus-a-copy\n",
      "  df_main['Option Name'] = 'Balanced Growth'\n"
     ]
    }
   ],
   "source": [
    "\n",
    "# Add 'Effective Date' and 'Fund Name' columns\n",
    "this_period = pd.to_datetime('31/12/2024',format='%d/%m/%Y')\n",
    "df_main['Effective Date'] = this_period\n",
    "df_main['Fund Name'] = 'cbus'\n",
    "df_main['Option Name'] = 'Balanced Growth'\n"
   ]
  },
  {
   "cell_type": "markdown",
   "id": "e04a19f4",
   "metadata": {},
   "source": [
    "Step 3: Handle Subtotal/ Merge and Rename columns"
   ]
  },
  {
   "cell_type": "code",
   "execution_count": 71,
   "id": "5a8d2421",
   "metadata": {},
   "outputs": [],
   "source": [
    "# Remove 'Table Order' column\n",
    "df_main = df_main.drop(columns=['Table Order'], errors='ignore')\n",
    "\n",
    "# Merge 5 overlapping columns into 'Name/Kind of Investment Item' column\n",
    "\n",
    "df_main['Name/Kind of Investment Item'] = df_main[\n",
    "    ['Security Name',\n",
    "     'Portfolio Name', \n",
    "     'Manager Name', \n",
    "     'Issuer', \n",
    "     'Institution']\n",
    "].bfill(axis=1).iloc[:, 0]"
   ]
  },
  {
   "cell_type": "code",
   "execution_count": 72,
   "id": "20d9f7c7",
   "metadata": {},
   "outputs": [],
   "source": [
    "# Add Int/Ext column by extract from 'Section' column\n",
    "\"\"\"\n",
    "RULES:\n",
    "1. For any values in 'Section' column that contains \"internally\", 'Int/Ext' column will be set to 0 (Internally Managed)\n",
    "2. For all other values, 'Int/Ext' column will be set to 1 (Externally Managed)\n",
    "3. The original strings will be removed from the 'Section' column\n",
    "\"\"\"\n",
    "\n",
    "df_main['Int/Ext'] = 1 # Initialize the column with all values set to 1 \n",
    "\n",
    "# If 'internal' is found in 'Section', set 'Int/Ext' to 0, otherwise 1\n",
    "internal = df_main['Section'].str.contains('internal', case=False, na=False)\n",
    "external = df_main['Section'].str.contains('external',case=False, na=False)\n",
    "\n",
    "df_main.loc[internal, 'Int/Ext'] = 0\n",
    "df_main.loc[external, 'Int/Ext'] = 1\n",
    "\n",
    "# Remove the string and once space before it from the 'Section' column, only where applicable\n",
    "\n",
    "df_main.loc[internal,'Section'] = df_main.loc[internal, 'Section'].str.replace(r'\\s+internal','',case=False,regex=True)\n",
    "df_main.loc[external,'Section'] = df_main.loc[external, 'Section'].str.replace(r'\\s+external','',case=False,regex=True)\n",
    "\n"
   ]
  },
  {
   "cell_type": "code",
   "execution_count": null,
   "id": "006ce7fa",
   "metadata": {},
   "outputs": [],
   "source": [
    "# Handle 'Sub Total' rows\n",
    "\"\"\"\n",
    "    RULES:\n",
    "    1. One exact value \"Table 1 TOTAL\" in 'Section' column -> change to \"TOTAL INVESTMENT ITEMS\" → then move to 'Manager Name' column\n",
    "    2. Whenever there is \"... TOTAL\" strings IN 'Section' column → remove that string and add SUB TOTAL' to 'Manager Name' column and remove \n",
    "    3. Other values remain unchanged\n",
    "\"\"\"\n",
    "def sub_total_rule(df):\n",
    "    # Make a copy to avoid modifying original\n",
    "    df = df.copy()\n",
    "    \n",
    "    # Rule 1: Exact match \"Table 1 TOTAL\" \n",
    "    mask_rule1 = df['Section'] == 'Table 1 TOTAL'\n",
    "    df.loc[mask_rule1, 'Name/Kind of Investment Item'] = 'TOTAL INVESTMENT ITEMS'\n",
    "    df.loc[mask_rule1, 'Section'] = ''  # Remove from Section\n",
    "    \n",
    "    # Rule 2: Any string ending with \" TOTAL\" (exlcuding rule 1 matches)\n",
    "    mask_rule2 = (df['Section'].str.endswith(' TOTAL', na=False)) & (~mask_rule1)\n",
    "    \n",
    "    # For these rows, add 'SUB TOTAL' to Manager Name and remove the \" TOTAL\" part from Section\n",
    "    df.loc[mask_rule2, 'Name/Kind of Investment Item'] = 'SUB TOTAL'\n",
    "    df.loc[mask_rule2, 'Section'] = df.loc[mask_rule2, 'Section'].str.replace(r' TOTAL$', '', regex=True)\n",
    "    \n",
    "    return df\n",
    "\n",
    "# Apply the rules\n",
    "df_main = sub_total_rule(df_main)"
   ]
  },
  {
   "cell_type": "code",
   "execution_count": 76,
   "id": "3705ecc9",
   "metadata": {},
   "outputs": [],
   "source": [
    "# Rename some columns\n",
    "df_main.rename(columns={\n",
    "    'Section': 'Asset Class Name',\n",
    "    'Market Value': 'Value (AUD)',\n",
    "    'Local Currency': 'Currency',\n",
    "    'Weight': 'Weighting (%)',\n",
    "    'Ownership%': '% Ownership'\n",
    "}, inplace=True)\n",
    "\n",
    "\n",
    "# Keep 'Name/Kind of Investment Items' column as it is\n",
    "\n",
    "# Split 'Security Identifier' into 2 columns by space delimeter\n",
    "df_main[['Stock ID', 'Listed Country']] = df_main['Security Identifier'].str.extract(r'^([^ ]+)\\s+(.*)$')\n",
    "\n",
    "# Final selection and reordering of columns\n",
    "df_main = df_main[[\n",
    "    'Effective Date',\n",
    "    'Fund Name',\n",
    "    'Option Name',\n",
    "    'Asset Class Name',\n",
    "    'Int/Ext',\n",
    "    'Name/Kind of Investment Item',\n",
    "    'Currency',\n",
    "    'Stock ID',\n",
    "    'Listed Country',\n",
    "    '% Ownership',\n",
    "    'Units Held',\n",
    "    'Address',\n",
    "    'Value (AUD)',\n",
    "    'Weighting (%)'\n",
    "]]"
   ]
  },
  {
   "cell_type": "markdown",
   "id": "8ec4b83c",
   "metadata": {},
   "source": [
    "Step 4: Standardise Column dtype"
   ]
  },
  {
   "cell_type": "code",
   "execution_count": null,
   "id": "d0e07094",
   "metadata": {},
   "outputs": [],
   "source": [
    "## Change dtype of  %Ownership and 'WEIGHTING(%)' to float\n",
    "\n",
    "# Weighting(%) — remove '%' and convert to float, then divide by 100\n",
    "df_main['Weighting (%)'] = (\n",
    "    df_main['Weighting (%)']\n",
    "    .astype(str)\n",
    "    .str.replace('%', '', regex=False)\n",
    "    .str.replace('nan', '')\n",
    "    .replace(['', 'nan'], pd.NA)\n",
    "    .pipe(pd.to_numeric, errors='coerce') / 100\n",
    ")\n",
    "\n",
    "# % Ownership — convert to float and divide by 100\n",
    "df_main['% Ownership'] = (\n",
    "    df_main['% Ownership']\n",
    "    .astype(str)\n",
    "    .str.replace('%', '', regex=False)  # Add this if % signs present\n",
    "    .str.replace('nan', '')\n",
    "    .replace(['', 'nan'], pd.NA)\n",
    "    .pipe(pd.to_numeric, errors='coerce') / 100\n",
    ")"
   ]
  },
  {
   "cell_type": "code",
   "execution_count": 79,
   "id": "a7845369",
   "metadata": {},
   "outputs": [
    {
     "name": "stdout",
     "output_type": "stream",
     "text": [
      "Total Weighting (%): 2.9549999999999996\n",
      "Total Weighting of all Sub Total (%): 1.01\n",
      "Total Weighting without Sub Total (%): 0.9347999999999996\n"
     ]
    }
   ],
   "source": [
    "## Weighting (%) calculation\n",
    "# Total weighting with everything in the main table\n",
    "total = df_main['Weighting (%)'].sum()\n",
    "# Total weighting of only Sub total rows (This equal weighting of 'TOTAL INVESTMENT ITEMS')\n",
    "total_sub_total = df_main[df_main['Name/Kind of Investment Item'] == 'SUB TOTAL']['Weighting (%)'].sum()\n",
    "# Total weighting without 'Sub Total' and 'TOTAL INVESTMENT ITEMS'\n",
    "total_without_sub_total = total - total_sub_total - df_main[df_main['Name/Kind of Investment Item'] == 'TOTAL INVESTMENT ITEMS']['Weighting (%)'].sum()\n",
    "print(f\"Total Weighting (%): {total}\")\n",
    "print(f\"Total Weighting of all Sub Total (%): {total_sub_total}\")\n",
    "print(f\"Total Weighting without Sub Total (%): {total_without_sub_total}\")"
   ]
  },
  {
   "cell_type": "code",
   "execution_count": 80,
   "id": "f90e6386",
   "metadata": {},
   "outputs": [],
   "source": [
    "df_main.to_csv('cbus_cleaned.csv', index=False, encoding='utf-8-sig')"
   ]
  }
 ],
 "metadata": {
  "kernelspec": {
   "display_name": "base",
   "language": "python",
   "name": "python3"
  },
  "language_info": {
   "codemirror_mode": {
    "name": "ipython",
    "version": 3
   },
   "file_extension": ".py",
   "mimetype": "text/x-python",
   "name": "python",
   "nbconvert_exporter": "python",
   "pygments_lexer": "ipython3",
   "version": "3.9.18"
  }
 },
 "nbformat": 4,
 "nbformat_minor": 5
}
