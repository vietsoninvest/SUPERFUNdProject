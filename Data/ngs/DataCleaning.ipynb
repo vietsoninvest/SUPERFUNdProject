{
 "cells": [
  {
   "cell_type": "markdown",
   "id": "4ca5119c",
   "metadata": {},
   "source": [
    "NGS data cleaning template  "
   ]
  },
  {
   "cell_type": "code",
   "execution_count": 1,
   "id": "d427d615",
   "metadata": {},
   "outputs": [
    {
     "name": "stdout",
     "output_type": "stream",
     "text": [
      "{'encoding': 'ascii', 'confidence': 1.0, 'language': ''}\n"
     ]
    }
   ],
   "source": [
    "## pip install chardet - to detect file encoding\n",
    "# Detecting the encoding of a CSV file using chardet\n",
    "import chardet\n",
    "\n",
    "with open('ngs.csv', 'rb') as f:\n",
    "    result = chardet.detect(f.read(100000))\n",
    "    print(result)  # Output: {'encoding': 'Windows-1252', 'confidence': 0.99, 'language': ''}\n"
   ]
  },
  {
   "cell_type": "markdown",
   "id": "a243e408",
   "metadata": {},
   "source": [
    "Step 1: Remove unuseful rows and add 'Effective Date' and 'Fund Name' columns"
   ]
  },
  {
   "cell_type": "code",
   "execution_count": 2,
   "id": "50fea8fb",
   "metadata": {},
   "outputs": [
    {
     "name": "stdout",
     "output_type": "stream",
     "text": [
      "Effective Date: 2024-12-31\n"
     ]
    }
   ],
   "source": [
    "# iporting the dataset and extract effective date\n",
    "import pandas as pd\n",
    "\n",
    "df_raw = pd.read_csv('ngs.csv',encoding='cp1252',header = None)  # Use the detected encoding\n",
    "\n",
    "# Extract effective date from the first cell\n",
    "first_cell = df_raw.iloc[0, 0]\n",
    "import re\n",
    "match = re.search(r'\\d{4}-\\d{2}-\\d{2}', str(first_cell))\n",
    "effective_date = match.group(0) if match else None\n",
    "\n",
    "print(f\"Effective Date: {effective_date}\")"
   ]
  },
  {
   "cell_type": "code",
   "execution_count": 3,
   "id": "117b8f2c",
   "metadata": {},
   "outputs": [
    {
     "name": "stdout",
     "output_type": "stream",
     "text": [
      "  ASSET CLASS INTERNALLY MANAGED OR EXTERNALLY MANAGED  \\\n",
      "0        CASH                                        -   \n",
      "1        CASH                                        -   \n",
      "2        CASH                                        -   \n",
      "3        CASH                                        -   \n",
      "4        CASH                                        -   \n",
      "\n",
      "           NAME OF INSTITUTION NAME OF ISSUER / COUNTERPARTY  \\\n",
      "0         MACQUARIE GROUP LTD.                             -   \n",
      "1  STATE STREET BANK AND TRUST                             -   \n",
      "2  STATE STREET BANK AND TRUST                             -   \n",
      "3                       UBS AG                             -   \n",
      "4  STATE STREET BANK AND TRUST                             -   \n",
      "\n",
      "  NAME OF FUND MANAGER NAME / KIND OF INVESTMENT ITEM CURRENCY  \\\n",
      "0                    -                              -      AUD   \n",
      "1                    -                              -      AUD   \n",
      "2                    -                              -      USD   \n",
      "3                    -                              -      USD   \n",
      "4                    -                              -      EUR   \n",
      "\n",
      "  SECURITY IDENTIFIER ADDRESS  % OWNERSHIP / PROPERTY HELD UNITS HELD  \\\n",
      "0                   -       -                          NaN        NaN   \n",
      "1                   -       -                          NaN        NaN   \n",
      "2                   -       -                          NaN        NaN   \n",
      "3                   -       -                          NaN        NaN   \n",
      "4                   -       -                          NaN        NaN   \n",
      "\n",
      "     VALUE(AUD) WEIGHTING(%) Effective Date Fund Name     Option Name  \n",
      "0  $105,326,287        1.01%     2024-12-31       NGS  Balance Growth  \n",
      "1   $45,796,134        0.44%     2024-12-31       NGS  Balance Growth  \n",
      "2   $44,732,444        0.43%     2024-12-31       NGS  Balance Growth  \n",
      "3   $38,266,542        0.37%     2024-12-31       NGS  Balance Growth  \n",
      "4   $13,682,413        0.13%     2024-12-31       NGS  Balance Growth  \n"
     ]
    }
   ],
   "source": [
    "# Skip the first row which contains the effective date\n",
    "df = pd.read_csv('ngs.csv', encoding='cp1252',skiprows=1)  \n",
    "\n",
    "# Add 'Effective Date' and 'Fund Name' columns\n",
    "df['Effective Date'] = effective_date\n",
    "df['Fund Name'] = 'NGS'\n",
    "df['Option Name'] = 'Balance Growth'\n",
    "print(df.head())"
   ]
  },
  {
   "cell_type": "markdown",
   "id": "52536678",
   "metadata": {},
   "source": [
    "Step 2: Find the cut-off point and remove unnecessary information at the end of the table"
   ]
  },
  {
   "cell_type": "code",
   "execution_count": 4,
   "id": "556a141f",
   "metadata": {},
   "outputs": [
    {
     "name": "stdout",
     "output_type": "stream",
     "text": [
      "Cut main table before row: 1947\n"
     ]
    }
   ],
   "source": [
    "# find the cut-off point \n",
    "first_col = df.columns[0] \n",
    "cutoff_index = df[\n",
    "    df[first_col].astype(str).str.contains(\n",
    "        r\"The value \\(AUD\\) and weighting \\(%\\) sub totals may not sum to 100%\", na=False\n",
    "    )\n",
    "].index.min()\n",
    "print(\"Cut main table before row:\", cutoff_index)\n"
   ]
  },
  {
   "cell_type": "code",
   "execution_count": 5,
   "id": "c8c55249",
   "metadata": {},
   "outputs": [],
   "source": [
    "# separate the main table and summary table\n",
    "df_main = df.loc[:cutoff_index - 1]   # all rows before cutoff\n",
    "df_summary = df.loc[cutoff_index:]    # cutoff row and everything after\n"
   ]
  },
  {
   "cell_type": "code",
   "execution_count": null,
   "id": "80ec60ea",
   "metadata": {},
   "outputs": [],
   "source": [
    "df_main.info()"
   ]
  },
  {
   "cell_type": "markdown",
   "id": "e04a19f4",
   "metadata": {},
   "source": [
    "Step 3: Merge and Rename columns"
   ]
  },
  {
   "cell_type": "code",
   "execution_count": null,
   "id": "3705ecc9",
   "metadata": {},
   "outputs": [],
   "source": [
    "# Rename some columns\n",
    "df_main.rename(columns={\n",
    "    df_main.columns[0]: 'Asset Class Name',\n",
    "    df_main.columns[1]: 'Int/Ext',\n",
    "    '% OWNERSHIP / PROPERTY HELD': '% Ownership'\n",
    "}, inplace=True)\n",
    "\n",
    "# Convert 'Int/Ext' to binary\n",
    "def convert_int_ext(value):\n",
    "    if isinstance(value, str):\n",
    "        val = value.strip().upper()\n",
    "        if val == 'INTERNALLY':\n",
    "            return 0\n",
    "        elif val in ['EXTERNALLY', '-']:\n",
    "            return 1\n",
    "    return ''  # leave blank if not matched\n",
    "\n",
    "df_main['Int/Ext'] = df_main['Int/Ext'].apply(convert_int_ext)\n",
    "\n",
    "# Combine 4 overlapping columns into one\n",
    "df_main['Name/Kind of Investment Item'] = df_main[\n",
    "    ['NAME OF INSTITUTION', \n",
    "     'NAME OF ISSUER / COUNTERPARTY', \n",
    "     'NAME OF FUND MANAGER', \n",
    "     'NAME / KIND OF INVESTMENT ITEM']\n",
    "].bfill(axis=1).iloc[:, 0]\n",
    "\n",
    "# Keep Currency column as it is\n",
    "\n",
    "# Split 'SECURITY IDENTIFIER' into 2 columns by space delimeter\n",
    "df_main[['Stock ID', 'Listed Country']] = df_main['SECURITY IDENTIFIER'].str.extract(r'^([^ ]+)\\s+(.*)$')\n",
    "\n",
    "\n",
    "# Final selection and reordering of columns\n",
    "df_main = df_main[[\n",
    "    'Effective Date',\n",
    "    'Fund Name',\n",
    "    'Option Name',\n",
    "    'Asset Class Name',\n",
    "    'Int/Ext',\n",
    "    'Name/Kind of Investment Item',\n",
    "    'CURRENCY',\n",
    "    'Stock ID',\n",
    "    'Listed Country',\n",
    "    '% Ownership',\n",
    "    'UNITS HELD',\n",
    "    'ADDRESS',\n",
    "    'VALUE(AUD)',\n",
    "    'WEIGHTING(%)'\n",
    "]]\n"
   ]
  },
  {
   "cell_type": "markdown",
   "id": "907df536",
   "metadata": {},
   "source": [
    "Step 4: Deal with 'Sub total' items and standardise column dtype\n"
   ]
  },
  {
   "cell_type": "code",
   "execution_count": null,
   "id": "b1520135",
   "metadata": {},
   "outputs": [],
   "source": [
    "## Deal with Sub total items \n",
    "# Define mask to detect rows with 'sub total' in 'Asset Class Name'\n",
    "mask_subtotal = df_main['Asset Class Name'].str.contains(r'sub\\s*total', case=False, na=False)\n",
    "\n",
    "# Move 'Asset Class Name' value to 'Name/Kind of Investment Item' in those rows\n",
    "df_main.loc[mask_subtotal, 'Name/Kind of Investment Item'] = df_main.loc[mask_subtotal, 'Asset Class Name']\n",
    "\n",
    "# Clear 'Asset Class Name' in those rows\n",
    "df_main.loc[mask_subtotal, 'Asset Class Name'] = ''\n"
   ]
  },
  {
   "cell_type": "code",
   "execution_count": 13,
   "id": "fef7609e",
   "metadata": {},
   "outputs": [
    {
     "name": "stdout",
     "output_type": "stream",
     "text": [
      "<class 'pandas.core.frame.DataFrame'>\n",
      "RangeIndex: 1947 entries, 0 to 1946\n",
      "Data columns (total 2 columns):\n",
      " #   Column        Non-Null Count  Dtype  \n",
      "---  ------        --------------  -----  \n",
      " 0   VALUE(AUD)    1940 non-null   float64\n",
      " 1   WEIGHTING(%)  1940 non-null   float64\n",
      "dtypes: float64(2)\n",
      "memory usage: 30.5 KB\n",
      "None\n"
     ]
    }
   ],
   "source": [
    "## Change dtype of 'Value(AUD) and 'WEIGHTING(%)' to float\n",
    "\n",
    "# Value(AUD) — remove '$' and ',' and convert to float\n",
    "df_main['VALUE(AUD)'] = (\n",
    "    df_main['VALUE(AUD)']\n",
    "    .astype(str)\n",
    "    .str.replace(r'[\\$,]', '', regex=True)\n",
    "    .replace('', pd.NA)\n",
    "    .astype(float)\n",
    ")\n",
    "\n",
    "# Weighting(%) — remove '%' and convert to float\n",
    "df_main['WEIGHTING(%)'] = (\n",
    "    df_main['WEIGHTING(%)']\n",
    "    .astype(str)\n",
    "    .str.replace('%', '', regex=False)\n",
    "    .replace('', pd.NA)\n",
    "    .astype(float)\n",
    ")\n",
    "\n",
    "print(df_main[['VALUE(AUD)','WEIGHTING(%)']].info())\n"
   ]
  }
 ],
 "metadata": {
  "kernelspec": {
   "display_name": "base",
   "language": "python",
   "name": "python3"
  },
  "language_info": {
   "codemirror_mode": {
    "name": "ipython",
    "version": 3
   },
   "file_extension": ".py",
   "mimetype": "text/x-python",
   "name": "python",
   "nbconvert_exporter": "python",
   "pygments_lexer": "ipython3",
   "version": "3.9.18"
  }
 },
 "nbformat": 4,
 "nbformat_minor": 5
}
