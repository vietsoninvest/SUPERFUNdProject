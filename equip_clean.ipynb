{
 "cells": [
  {
   "cell_type": "code",
   "execution_count": 1,
   "id": "95d8bfee",
   "metadata": {},
   "outputs": [],
   "source": [
    "import pandas as pd\n",
    "import numpy as np"
   ]
  },
  {
   "cell_type": "code",
   "execution_count": 2,
   "id": "c1bfc984",
   "metadata": {},
   "outputs": [],
   "source": [
    "equip = pd.read_excel('Data\\\\equip-balanced-growth-super.xlsx', header=None)"
   ]
  },
  {
   "cell_type": "code",
   "execution_count": 3,
   "id": "f053aa44",
   "metadata": {},
   "outputs": [],
   "source": [
    "# Extract the option name from the first cell\n",
    "option_name = equip.iloc[0,0].split(\"for \", 1)[1].split(\" (\", 1)[0]  #  get text after 'for ' and before ' ('"
   ]
  },
  {
   "cell_type": "code",
   "execution_count": 4,
   "id": "8548cbcb",
   "metadata": {},
   "outputs": [
    {
     "data": {
      "text/plain": [
       "(2, 0)"
      ]
     },
     "execution_count": 4,
     "metadata": {},
     "output_type": "execute_result"
    }
   ],
   "source": [
    "# Retrieve Table 1 from the Excel file\n",
    "\n",
    "# Locate table 1 text\n",
    "table1_row = equip.index[equip.apply(lambda row: row.astype(str).str.contains(\"Table 1\").any(), axis=1)][0]\n",
    "table1_row\n",
    "\n",
    "table1_col = None\n",
    "for col in equip.columns:\n",
    "    if equip[col].astype(str).str.contains(\"Table 1\").any():\n",
    "        table1_col = col\n",
    "        break\n",
    "(table1_row,table1_col)"
   ]
  },
  {
   "cell_type": "code",
   "execution_count": 5,
   "id": "f6935203",
   "metadata": {},
   "outputs": [],
   "source": [
    "table_start_row = table1_row + 2 # Start after the header row\n",
    "table_end_col = equip.iloc[table_start_row].index[equip.iloc[4].isna()][0]"
   ]
  },
  {
   "cell_type": "code",
   "execution_count": 6,
   "id": "fe6e34d2",
   "metadata": {},
   "outputs": [],
   "source": [
    "asset_table = equip.iloc[table_start_row:, :table_end_col]"
   ]
  },
  {
   "cell_type": "code",
   "execution_count": 8,
   "id": "0c9ef081",
   "metadata": {},
   "outputs": [],
   "source": [
    "asset_table.columns = asset_table.iloc[0].str.strip()  # Set the first row as header\n",
    "asset_table = asset_table[1:]  # Remove the header row from the data"
   ]
  },
  {
   "cell_type": "code",
   "execution_count": 9,
   "id": "c8d28f61",
   "metadata": {},
   "outputs": [],
   "source": [
    "# Concat asset class col with listing col to have this form: Listing type + Asset class where listing type is not none\n",
    "asset_table['Asset class'] = asset_table['Listing type'].fillna('') + ' ' + asset_table['Asset class'].fillna('')\n",
    "asset_table['Asset class'] = asset_table['Asset class'].str.strip()  # Remove leading/trailing spaces\n",
    "asset_table['Asset class'] = asset_table['Asset class'].replace('', np.nan)\n",
    "\n",
    "# remove listing type col\n",
    "asset_table = asset_table.drop(columns=['Listing type'])"
   ]
  },
  {
   "cell_type": "code",
   "execution_count": 10,
   "id": "eb9ec90c",
   "metadata": {},
   "outputs": [],
   "source": [
    "# Convert Type column to boolean, 0 where Internal, 1 otherwise\n",
    "asset_table['Type'] = asset_table['Type'].apply(lambda x: 0 if x == 'Internal' else 1)"
   ]
  },
  {
   "cell_type": "code",
   "execution_count": 11,
   "id": "bea8d347",
   "metadata": {},
   "outputs": [
    {
     "data": {
      "text/plain": [
       "Index(['Asset class', 'Type',\n",
       "       'Name of institution / issuer / counterparty / manager / investment item',\n",
       "       'Currency', 'Security identifier', '% ownership', 'Address',\n",
       "       'Units held', 'Value (AUD)', 'Weighting (%)'],\n",
       "      dtype='object', name=4)"
      ]
     },
     "execution_count": 11,
     "metadata": {},
     "output_type": "execute_result"
    }
   ],
   "source": [
    "asset_table.columns"
   ]
  },
  {
   "cell_type": "code",
   "execution_count": 12,
   "id": "b2e51e5b",
   "metadata": {},
   "outputs": [],
   "source": [
    "# change the column names to match the all_cols_order template\n",
    "col_map = {\n",
    "    'Asset class': 'Asset Class Name',\n",
    "    'Type': 'Int/Ext',\n",
    "    'Name of institution / issuer / counterparty / manager / investment item': 'Name/Kind of Investment Item',\n",
    "    'Security identifier': 'Stock ID',\n",
    "    '% ownership': '% Ownership',\n",
    "    'Units held': 'Units Held',\n",
    "}\n",
    "\n",
    "all_cols_order = [\n",
    "    \"Effective Date\",\n",
    "    \"Fund Name\",\n",
    "    \"Option Name\",\n",
    "    \"Asset Class Name\",\n",
    "    \"Int/Ext\",\n",
    "    \"Name/Kind of Investment Item\",\n",
    "    \"Currency\",\n",
    "    \"Stock ID\",\n",
    "    \"Listed Country\",\n",
    "    \"Units Held\",\n",
    "    \"% Ownership\",\n",
    "    \"Address\",\n",
    "    \"Value (AUD)\",\n",
    "    \"Weighting (%)\"\n",
    "]"
   ]
  },
  {
   "cell_type": "code",
   "execution_count": 13,
   "id": "75ac0b79",
   "metadata": {},
   "outputs": [],
   "source": [
    "# map the columns in each subtable accirding to col_map\n",
    "asset_table = asset_table.rename(columns=col_map)"
   ]
  },
  {
   "cell_type": "code",
   "execution_count": 14,
   "id": "baa5c25a",
   "metadata": {},
   "outputs": [],
   "source": [
    "mask = asset_table['Asset Class Name'] == \"Total\"\n",
    "# Move \"Total\" to Name/Kind of Investment Item, and rename it to \"Sub Total\"\n",
    "asset_table.loc[mask, 'Name/Kind of Investment Item'] = \"Sub Total\"\n",
    "# Fill Asset class & Int/Ext with the value above\n",
    "asset_table.loc[mask, 'Asset Class Name'] = asset_table['Asset Class Name'].shift(1)[mask]\n",
    "asset_table.loc[mask, 'Int/Ext'] = asset_table['Int/Ext'].shift(1)[mask]"
   ]
  },
  {
   "cell_type": "code",
   "execution_count": 15,
   "id": "e45329b1",
   "metadata": {},
   "outputs": [],
   "source": [
    "unique_ac = np.unique(asset_table['Asset Class Name'])\n",
    "if \"Total Investment Items\" in unique_ac:\n",
    "    # remove row with value \"Total Investment Items\" under Asset Class Name\n",
    "    asset_table = asset_table[asset_table['Asset Class Name'] != \"Total Investment Items\"]"
   ]
  },
  {
   "cell_type": "code",
   "execution_count": 16,
   "id": "9133338e",
   "metadata": {},
   "outputs": [],
   "source": [
    "# Add 3 columns to the front\n",
    "asset_table['Effective Date'] = '2024-12-31'  ### need to think of a way to make this dynamic without info in the original file\n",
    "asset_table['Fund Name'] = \"Equip Super Fund\"\n",
    "asset_table['Option Name'] = option_name  # Assuming a fixed option name for all entries\n",
    "# Listed country is first 2 letters of the stock id col\n",
    "asset_table['Listed Country'] = asset_table['Stock ID'].str[:2]  # Extract first 2 letters of Stock ID\n",
    "# Weighting (%) need to * 100 to be in percentage\n",
    "asset_table['Weighting (%)'] = asset_table['Weighting (%)'] * 100\n",
    "\n",
    "# Reorder columns\n",
    "asset_table = asset_table[all_cols_order]"
   ]
  },
  {
   "cell_type": "code",
   "execution_count": 17,
   "id": "9bd19597",
   "metadata": {},
   "outputs": [],
   "source": [
    "# save to CSV\n",
    "asset_table.to_csv('Data\\\\equip_cleaned.csv', index=False)"
   ]
  }
 ],
 "metadata": {
  "kernelspec": {
   "display_name": "general_venv",
   "language": "python",
   "name": "python3"
  },
  "language_info": {
   "codemirror_mode": {
    "name": "ipython",
    "version": 3
   },
   "file_extension": ".py",
   "mimetype": "text/x-python",
   "name": "python",
   "nbconvert_exporter": "python",
   "pygments_lexer": "ipython3",
   "version": "3.10.10"
  }
 },
 "nbformat": 4,
 "nbformat_minor": 5
}
